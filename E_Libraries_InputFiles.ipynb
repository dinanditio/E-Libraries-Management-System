{
  "nbformat": 4,
  "nbformat_minor": 0,
  "metadata": {
    "colab": {
      "provenance": []
    },
    "kernelspec": {
      "name": "python3",
      "display_name": "Python 3"
    },
    "language_info": {
      "name": "python"
    }
  },
  "cells": [
    {
      "cell_type": "code",
      "execution_count": 1,
      "metadata": {
        "colab": {
          "base_uri": "https://localhost:8080/"
        },
        "id": "2CXo0RssXS8r",
        "outputId": "9cd3a4e0-ce68-4bf3-8a3e-f0b04e079bda"
      },
      "outputs": [
        {
          "output_type": "stream",
          "name": "stdout",
          "text": [
            "Requirement already satisfied: pandas in /usr/local/lib/python3.10/dist-packages (2.0.3)\n",
            "Collecting Faker\n",
            "  Downloading Faker-25.1.0-py3-none-any.whl (1.8 MB)\n",
            "\u001b[2K     \u001b[90m━━━━━━━━━━━━━━━━━━━━━━━━━━━━━━━━━━━━━━━━\u001b[0m \u001b[32m1.8/1.8 MB\u001b[0m \u001b[31m6.6 MB/s\u001b[0m eta \u001b[36m0:00:00\u001b[0m\n",
            "\u001b[?25hRequirement already satisfied: python-dateutil>=2.8.2 in /usr/local/lib/python3.10/dist-packages (from pandas) (2.8.2)\n",
            "Requirement already satisfied: pytz>=2020.1 in /usr/local/lib/python3.10/dist-packages (from pandas) (2023.4)\n",
            "Requirement already satisfied: tzdata>=2022.1 in /usr/local/lib/python3.10/dist-packages (from pandas) (2024.1)\n",
            "Requirement already satisfied: numpy>=1.21.0 in /usr/local/lib/python3.10/dist-packages (from pandas) (1.25.2)\n",
            "Requirement already satisfied: six>=1.5 in /usr/local/lib/python3.10/dist-packages (from python-dateutil>=2.8.2->pandas) (1.16.0)\n",
            "Installing collected packages: Faker\n",
            "Successfully installed Faker-25.1.0\n"
          ]
        }
      ],
      "source": [
        "pip install pandas Faker"
      ]
    },
    {
      "cell_type": "code",
      "source": [
        "import pandas as pd\n",
        "from faker import Faker\n",
        "import random\n",
        "\n",
        "fake = Faker()\n",
        "\n",
        "# Settings\n",
        "num_libraries = 5\n",
        "num_books_per_library = 20\n",
        "num_copies_per_book = 3\n",
        "num_users = 50\n",
        "num_loans = 100\n",
        "num_holds = 50\n",
        "\n",
        "# Generate Libraries\n",
        "libraries = pd.DataFrame({\n",
        "    'library_id': range(1, num_libraries + 1),\n",
        "    'name': [fake.company() for _ in range(num_libraries)],\n",
        "    'location': [fake.address() for _ in range(num_libraries)]\n",
        "})\n",
        "\n",
        "# Generate Books\n",
        "books = pd.DataFrame({\n",
        "    'book_id': range(1, num_libraries * num_books_per_library + 1),\n",
        "    'title': [fake.sentence(nb_words=5) for _ in range(num_libraries * num_books_per_library)],\n",
        "    'author': [fake.name() for _ in range(num_libraries * num_books_per_library)],\n",
        "    'category': [random.choice(['Self-improvement', 'Biography', 'Fantasy', 'Romance', 'Science Fiction']) for _ in range(num_libraries * num_books_per_library)]\n",
        "})\n",
        "\n",
        "# Generate Book Copies\n",
        "book_copies = pd.DataFrame({\n",
        "    'copy_id': range(1, num_libraries * num_books_per_library * num_copies_per_book + 1),\n",
        "    'book_id': sum([[i] * num_copies_per_book for i in books['book_id']], []),\n",
        "    'library_id': sum([[i] * num_books_per_library * num_copies_per_book for i in range(1, num_libraries + 1)], []),\n",
        "    'is_available': [random.choice([True, False]) for _ in range(num_libraries * num_books_per_library * num_copies_per_book)]\n",
        "})\n",
        "\n",
        "# Check if there are enough unavailable copies before attempting to create loan records\n",
        "if len(book_copies[book_copies['is_available'] == False]) < num_loans:\n",
        "    raise ValueError(\"Not enough unavailable copies to generate the requested number of loans.\")\n",
        "\n",
        "# Generate Users\n",
        "users = pd.DataFrame({\n",
        "    'user_id': range(1, num_users + 1),\n",
        "    'username': [fake.user_name() for _ in range(num_users)],\n",
        "    'email': [fake.email() for _ in range(num_users)],\n",
        "    'password_hash': [fake.sha256() for _ in range(num_users)],\n",
        "    'registered_on': [fake.date_between(start_date='-2y', end_date='today') for _ in range(num_users)]\n",
        "})\n",
        "\n",
        "# Generate Loans\n",
        "loans = pd.DataFrame({\n",
        "    'loan_id': range(1, num_loans + 1),\n",
        "    'copy_id': random.choices(book_copies[book_copies['is_available'] == False]['copy_id'].tolist(), k=num_loans),\n",
        "    'user_id': random.choices(users['user_id'].tolist(), k=num_loans),\n",
        "    'loan_date': [fake.date_between(start_date='-1y', end_date='today') for _ in range(num_loans)],\n",
        "    'due_date': [fake.date_between(start_date='+1d', end_date='+15d') for _ in range(num_loans)],\n",
        "    'return_date': [random.choice([None, fake.date_between(start_date='+1d', end_date='+15d')]) for _ in range(num_loans)]\n",
        "})\n",
        "\n",
        "# Generate Holds\n",
        "holds = pd.DataFrame({\n",
        "    'hold_id': range(1, num_holds + 1),\n",
        "    'book_id': random.choices(books['book_id'], k=num_holds),\n",
        "    'user_id': random.choices(users['user_id'], k=num_holds),\n",
        "    'hold_placed_date': [fake.date_between(start_date='-6m', end_date='today') for _ in range(num_holds)],\n",
        "    'expiration_date': [fake.date_between(start_date='+7d', end_date='+14d') for _ in range(num_holds)]\n",
        "})"
      ],
      "metadata": {
        "id": "aydgh9gKXozr"
      },
      "execution_count": 7,
      "outputs": []
    }
  ]
}